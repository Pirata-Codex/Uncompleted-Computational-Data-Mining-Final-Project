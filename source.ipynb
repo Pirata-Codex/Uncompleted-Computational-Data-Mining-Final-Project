{
 "cells": [
  {
   "cell_type": "code",
   "execution_count": 1,
   "metadata": {},
   "outputs": [],
   "source": [
    "import pandas as pd\n",
    "import numpy as np\n",
    "import xlrd"
   ]
  },
  {
   "cell_type": "code",
   "execution_count": 168,
   "metadata": {},
   "outputs": [],
   "source": [
    "data = pd.read_excel(\"../Dataset/breast_preprocessed.xls\",header=None)\n",
    "# data.append(xlrd.open_workbook(\"../Dataset/breast_preprocessed.xls\"))"
   ]
  },
  {
   "cell_type": "code",
   "execution_count": 109,
   "metadata": {},
   "outputs": [
    {
     "data": {
      "text/html": [
       "<div>\n",
       "<style scoped>\n",
       "    .dataframe tbody tr th:only-of-type {\n",
       "        vertical-align: middle;\n",
       "    }\n",
       "\n",
       "    .dataframe tbody tr th {\n",
       "        vertical-align: top;\n",
       "    }\n",
       "\n",
       "    .dataframe thead th {\n",
       "        text-align: right;\n",
       "    }\n",
       "</style>\n",
       "<table border=\"1\" class=\"dataframe\">\n",
       "  <thead>\n",
       "    <tr style=\"text-align: right;\">\n",
       "      <th></th>\n",
       "      <th>0</th>\n",
       "      <th>1</th>\n",
       "      <th>2</th>\n",
       "      <th>3</th>\n",
       "      <th>4</th>\n",
       "      <th>5</th>\n",
       "      <th>6</th>\n",
       "      <th>7</th>\n",
       "      <th>8</th>\n",
       "      <th>9</th>\n",
       "      <th>...</th>\n",
       "      <th>119</th>\n",
       "      <th>120</th>\n",
       "      <th>121</th>\n",
       "      <th>122</th>\n",
       "      <th>123</th>\n",
       "      <th>124</th>\n",
       "      <th>125</th>\n",
       "      <th>126</th>\n",
       "      <th>127</th>\n",
       "      <th>128</th>\n",
       "    </tr>\n",
       "  </thead>\n",
       "  <tbody>\n",
       "    <tr>\n",
       "      <th>47290</th>\n",
       "      <td>pheA</td>\n",
       "      <td>5.705</td>\n",
       "      <td>5.6142</td>\n",
       "      <td>5.6955</td>\n",
       "      <td>5.6227</td>\n",
       "      <td>5.6727</td>\n",
       "      <td>5.5995</td>\n",
       "      <td>5.633</td>\n",
       "      <td>5.6539</td>\n",
       "      <td>5.6511</td>\n",
       "      <td>...</td>\n",
       "      <td>5.6595</td>\n",
       "      <td>5.6292</td>\n",
       "      <td>5.6042</td>\n",
       "      <td>5.6266</td>\n",
       "      <td>5.6022</td>\n",
       "      <td>5.6709</td>\n",
       "      <td>5.6136</td>\n",
       "      <td>5.6038</td>\n",
       "      <td>5.6693</td>\n",
       "      <td>5.5818</td>\n",
       "    </tr>\n",
       "    <tr>\n",
       "      <th>47291</th>\n",
       "      <td>thrB</td>\n",
       "      <td>5.7077</td>\n",
       "      <td>5.7586</td>\n",
       "      <td>5.7279</td>\n",
       "      <td>5.6777</td>\n",
       "      <td>5.6761</td>\n",
       "      <td>5.7091</td>\n",
       "      <td>5.6777</td>\n",
       "      <td>5.68</td>\n",
       "      <td>5.6763</td>\n",
       "      <td>...</td>\n",
       "      <td>5.6918</td>\n",
       "      <td>5.6501</td>\n",
       "      <td>5.5772</td>\n",
       "      <td>5.6637</td>\n",
       "      <td>5.6556</td>\n",
       "      <td>5.6587</td>\n",
       "      <td>5.6987</td>\n",
       "      <td>5.6933</td>\n",
       "      <td>5.6775</td>\n",
       "      <td>5.68</td>\n",
       "    </tr>\n",
       "    <tr>\n",
       "      <th>47292</th>\n",
       "      <td>trpF</td>\n",
       "      <td>5.6684</td>\n",
       "      <td>5.6585</td>\n",
       "      <td>5.6337</td>\n",
       "      <td>5.6427</td>\n",
       "      <td>5.6371</td>\n",
       "      <td>5.6691</td>\n",
       "      <td>5.62</td>\n",
       "      <td>5.6199</td>\n",
       "      <td>5.6608</td>\n",
       "      <td>...</td>\n",
       "      <td>5.6392</td>\n",
       "      <td>5.6451</td>\n",
       "      <td>5.6149</td>\n",
       "      <td>5.551</td>\n",
       "      <td>5.605</td>\n",
       "      <td>5.6246</td>\n",
       "      <td>5.5404</td>\n",
       "      <td>5.6206</td>\n",
       "      <td>5.6552</td>\n",
       "      <td>5.6141</td>\n",
       "    </tr>\n",
       "    <tr>\n",
       "      <th>47293</th>\n",
       "      <td>y</td>\n",
       "      <td>luminal</td>\n",
       "      <td>luminal</td>\n",
       "      <td>luminal</td>\n",
       "      <td>luminal</td>\n",
       "      <td>luminal</td>\n",
       "      <td>non-luminal</td>\n",
       "      <td>non-luminal</td>\n",
       "      <td>luminal</td>\n",
       "      <td>luminal</td>\n",
       "      <td>...</td>\n",
       "      <td>luminal</td>\n",
       "      <td>luminal</td>\n",
       "      <td>luminal</td>\n",
       "      <td>non-luminal</td>\n",
       "      <td>non-luminal</td>\n",
       "      <td>luminal</td>\n",
       "      <td>luminal</td>\n",
       "      <td>luminal</td>\n",
       "      <td>non-luminal</td>\n",
       "      <td>luminal</td>\n",
       "    </tr>\n",
       "    <tr>\n",
       "      <th>47294</th>\n",
       "      <td>NaN</td>\n",
       "      <td>1</td>\n",
       "      <td>1</td>\n",
       "      <td>1</td>\n",
       "      <td>1</td>\n",
       "      <td>1</td>\n",
       "      <td>2</td>\n",
       "      <td>2</td>\n",
       "      <td>1</td>\n",
       "      <td>1</td>\n",
       "      <td>...</td>\n",
       "      <td>1</td>\n",
       "      <td>1</td>\n",
       "      <td>1</td>\n",
       "      <td>2</td>\n",
       "      <td>2</td>\n",
       "      <td>1</td>\n",
       "      <td>1</td>\n",
       "      <td>1</td>\n",
       "      <td>2</td>\n",
       "      <td>1</td>\n",
       "    </tr>\n",
       "  </tbody>\n",
       "</table>\n",
       "<p>5 rows × 129 columns</p>\n",
       "</div>"
      ],
      "text/plain": [
       "        0        1        2        3        4        5            6    \\\n",
       "47290  pheA    5.705   5.6142   5.6955   5.6227   5.6727       5.5995   \n",
       "47291  thrB   5.7077   5.7586   5.7279   5.6777   5.6761       5.7091   \n",
       "47292  trpF   5.6684   5.6585   5.6337   5.6427   5.6371       5.6691   \n",
       "47293     y  luminal  luminal  luminal  luminal  luminal  non-luminal   \n",
       "47294   NaN        1        1        1        1        1            2   \n",
       "\n",
       "               7        8        9    ...      119      120      121  \\\n",
       "47290        5.633   5.6539   5.6511  ...   5.6595   5.6292   5.6042   \n",
       "47291       5.6777     5.68   5.6763  ...   5.6918   5.6501   5.5772   \n",
       "47292         5.62   5.6199   5.6608  ...   5.6392   5.6451   5.6149   \n",
       "47293  non-luminal  luminal  luminal  ...  luminal  luminal  luminal   \n",
       "47294            2        1        1  ...        1        1        1   \n",
       "\n",
       "               122          123      124      125      126          127  \\\n",
       "47290       5.6266       5.6022   5.6709   5.6136   5.6038       5.6693   \n",
       "47291       5.6637       5.6556   5.6587   5.6987   5.6933       5.6775   \n",
       "47292        5.551        5.605   5.6246   5.5404   5.6206       5.6552   \n",
       "47293  non-luminal  non-luminal  luminal  luminal  luminal  non-luminal   \n",
       "47294            2            2        1        1        1            2   \n",
       "\n",
       "           128  \n",
       "47290   5.5818  \n",
       "47291     5.68  \n",
       "47292   5.6141  \n",
       "47293  luminal  \n",
       "47294        1  \n",
       "\n",
       "[5 rows x 129 columns]"
      ]
     },
     "execution_count": 109,
     "metadata": {},
     "output_type": "execute_result"
    }
   ],
   "source": [
    "data.tail()"
   ]
  },
  {
   "cell_type": "code",
   "execution_count": 169,
   "metadata": {},
   "outputs": [],
   "source": [
    "data=data.replace(0,np.NaN)\n",
    "data = data.drop_duplicates()\n",
    "copy = data"
   ]
  },
  {
   "cell_type": "code",
   "execution_count": 13,
   "metadata": {},
   "outputs": [],
   "source": [
    "# pip install xlwt required\n",
    "data.to_excel(r'test.xls',header=False,index=False)"
   ]
  },
  {
   "cell_type": "code",
   "execution_count": 117,
   "metadata": {},
   "outputs": [],
   "source": [
    "data = copy\n",
    "for i in range(len(data.index)-2):\n",
    "    mean = data.iloc[i,1:].mean()\n",
    "    for j in range(1,len(data.columns)):\n",
    "        data.at[data.index[i],j] = str(float(data.at[data.index[i],j]) - float(mean))"
   ]
  },
  {
   "cell_type": "code",
   "execution_count": 170,
   "metadata": {},
   "outputs": [
    {
     "data": {
      "text/plain": [
       "array([[5.34 , 5.848, 6.707, ..., 5.703, 5.707, 5.668],\n",
       "       [5.625, 5.875, 6.81 , ..., 5.613, 5.758, 5.66 ],\n",
       "       [5.617, 5.8  , 6.7  , ..., 5.695, 5.727, 5.633],\n",
       "       ...,\n",
       "       [5.613, 5.805, 7.094, ..., 5.605, 5.69 , 5.62 ],\n",
       "       [5.438, 5.984, 7.047, ..., 5.668, 5.676, 5.656],\n",
       "       [5.54 , 5.85 , 6.918, ..., 5.582, 5.68 , 5.613]], dtype=float16)"
      ]
     },
     "execution_count": 170,
     "metadata": {},
     "output_type": "execute_result"
    }
   ],
   "source": [
    "value_matrix = np.array(data.iloc[0:len(data.index)-2, 1:], dtype = np.float16).transpose()\n",
    "value_matrix"
   ]
  },
  {
   "cell_type": "code",
   "execution_count": 147,
   "metadata": {},
   "outputs": [
    {
     "data": {
      "text/plain": [
       "128"
      ]
     },
     "execution_count": 147,
     "metadata": {},
     "output_type": "execute_result"
    }
   ],
   "source": [
    "dfM = []\n",
    "for i in range(1,len(data.columns)):\n",
    "    if data.at[data.index[47293],i] == 'luminal':\n",
    "        dfM.append(1)\n",
    "    else:\n",
    "        dfM.append(0)\n",
    "len(dfM)"
   ]
  },
  {
   "cell_type": "code",
   "execution_count": 166,
   "metadata": {},
   "outputs": [
    {
     "name": "stdout",
     "output_type": "stream",
     "text": [
      "1          luminal\n",
      "2          luminal\n",
      "3          luminal\n",
      "4          luminal\n",
      "5          luminal\n",
      "6      non-luminal\n",
      "7      non-luminal\n",
      "8          luminal\n",
      "9          luminal\n",
      "10         luminal\n",
      "11         luminal\n",
      "12         luminal\n",
      "13         luminal\n",
      "14         luminal\n",
      "15         luminal\n",
      "16         luminal\n",
      "17         luminal\n",
      "18         luminal\n",
      "19         luminal\n",
      "20     non-luminal\n",
      "21     non-luminal\n",
      "22     non-luminal\n",
      "23     non-luminal\n",
      "24         luminal\n",
      "25         luminal\n",
      "26         luminal\n",
      "27     non-luminal\n",
      "28     non-luminal\n",
      "29         luminal\n",
      "30     non-luminal\n",
      "          ...     \n",
      "99     non-luminal\n",
      "100        luminal\n",
      "101    non-luminal\n",
      "102        luminal\n",
      "103        luminal\n",
      "104        luminal\n",
      "105        luminal\n",
      "106        luminal\n",
      "107    non-luminal\n",
      "108    non-luminal\n",
      "109        luminal\n",
      "110        luminal\n",
      "111        luminal\n",
      "112    non-luminal\n",
      "113        luminal\n",
      "114        luminal\n",
      "115        luminal\n",
      "116    non-luminal\n",
      "117        luminal\n",
      "118        luminal\n",
      "119        luminal\n",
      "120        luminal\n",
      "121        luminal\n",
      "122    non-luminal\n",
      "123    non-luminal\n",
      "124        luminal\n",
      "125        luminal\n",
      "126        luminal\n",
      "127    non-luminal\n",
      "128        luminal\n",
      "Name: 47293, Length: 128, dtype: object [1, 1, 1, 1, 1, 0, 0, 1, 1, 1, 1, 1, 1, 1, 1, 1, 1, 1, 1, 0, 0, 0, 0, 1, 1, 1, 0, 0, 1, 0, 1, 1, 1, 0, 1, 0, 1, 1, 0, 1, 0, 1, 0, 0, 1, 0, 0, 1, 0, 1, 1, 0, 1, 1, 1, 1, 1, 0, 1, 0, 0, 0, 1, 1, 1, 0, 1, 0, 1, 1, 1, 0, 1, 0, 1, 0, 1, 1, 1, 1, 1, 1, 1, 0, 1, 0, 1, 1, 0, 1, 0, 1, 1, 0, 1, 0, 1, 0, 0, 1, 0, 1, 1, 1, 1, 1, 0, 0, 1, 1, 1, 0, 1, 1, 1, 0, 1, 1, 1, 1, 1, 0, 0, 1, 1, 1, 0, 1]\n"
     ]
    }
   ],
   "source": [
    "print(data.iloc[47293,1:],dfM)"
   ]
  },
  {
   "cell_type": "code",
   "execution_count": 185,
   "metadata": {},
   "outputs": [
    {
     "data": {
      "text/plain": [
       "47293"
      ]
     },
     "execution_count": 185,
     "metadata": {},
     "output_type": "execute_result"
    }
   ],
   "source": [
    "from sklearn.model_selection import train_test_split\n",
    "X = value_matrix\n",
    "y = dfM\n",
    "X_train, X_test, y_train, y_test = train_test_split(X, y, test_size=0.2, random_state=0)\n",
    "len(X_train[0])"
   ]
  },
  {
   "cell_type": "code",
   "execution_count": 186,
   "metadata": {},
   "outputs": [
    {
     "data": {
      "text/plain": [
       "47293"
      ]
     },
     "execution_count": 186,
     "metadata": {},
     "output_type": "execute_result"
    }
   ],
   "source": [
    "from sklearn.preprocessing import StandardScaler\n",
    "\n",
    "sc = StandardScaler()\n",
    "X_train = sc.fit_transform(X_train)\n",
    "X_test = sc.transform(X_test)\n",
    "len(X_test[0])"
   ]
  },
  {
   "cell_type": "code",
   "execution_count": 210,
   "metadata": {},
   "outputs": [
    {
     "data": {
      "text/plain": [
       "26"
      ]
     },
     "execution_count": 210,
     "metadata": {},
     "output_type": "execute_result"
    }
   ],
   "source": [
    "from sklearn.discriminant_analysis import LinearDiscriminantAnalysis as LDA\n",
    "X_test = lda.transform(X_test)\n",
    "len(X_test)"
   ]
  },
  {
   "cell_type": "code",
   "execution_count": 212,
   "metadata": {},
   "outputs": [
    {
     "ename": "KeyboardInterrupt",
     "evalue": "",
     "output_type": "error",
     "traceback": [
      "\u001b[0;31m---------------------------------------------------------------------------\u001b[0m",
      "\u001b[0;31mKeyboardInterrupt\u001b[0m                         Traceback (most recent call last)",
      "\u001b[0;32m<ipython-input-212-021f81b09a5b>\u001b[0m in \u001b[0;36m<module>\u001b[0;34m\u001b[0m\n\u001b[1;32m      1\u001b[0m \u001b[0mlda\u001b[0m \u001b[0;34m=\u001b[0m \u001b[0mLDA\u001b[0m\u001b[0;34m(\u001b[0m\u001b[0mstore_covariance\u001b[0m\u001b[0;34m=\u001b[0m\u001b[0;32mTrue\u001b[0m\u001b[0;34m)\u001b[0m\u001b[0;34m\u001b[0m\u001b[0;34m\u001b[0m\u001b[0m\n\u001b[1;32m      2\u001b[0m \u001b[0;31m#X_r2 = lda.fit_transform(X, y)\u001b[0m\u001b[0;34m\u001b[0m\u001b[0;34m\u001b[0m\u001b[0;34m\u001b[0m\u001b[0m\n\u001b[0;32m----> 3\u001b[0;31m \u001b[0mX_r2\u001b[0m \u001b[0;34m=\u001b[0m \u001b[0mlda\u001b[0m\u001b[0;34m.\u001b[0m\u001b[0mfit\u001b[0m\u001b[0;34m(\u001b[0m\u001b[0mX\u001b[0m\u001b[0;34m,\u001b[0m \u001b[0my\u001b[0m\u001b[0;34m)\u001b[0m\u001b[0;34m.\u001b[0m\u001b[0mtransform\u001b[0m\u001b[0;34m(\u001b[0m\u001b[0mX\u001b[0m\u001b[0;34m)\u001b[0m\u001b[0;34m\u001b[0m\u001b[0;34m\u001b[0m\u001b[0m\n\u001b[0m\u001b[1;32m      4\u001b[0m \u001b[0mplt\u001b[0m\u001b[0;34m.\u001b[0m\u001b[0mfigure\u001b[0m\u001b[0;34m(\u001b[0m\u001b[0;34m)\u001b[0m\u001b[0;34m\u001b[0m\u001b[0;34m\u001b[0m\u001b[0m\n\u001b[1;32m      5\u001b[0m \u001b[0mcolors\u001b[0m \u001b[0;34m=\u001b[0m \u001b[0;34m[\u001b[0m \u001b[0;34m'turquoise'\u001b[0m\u001b[0;34m,\u001b[0m \u001b[0;34m'darkorange'\u001b[0m\u001b[0;34m]\u001b[0m\u001b[0;34m\u001b[0m\u001b[0;34m\u001b[0m\u001b[0m\n",
      "\u001b[0;32m/Library/Frameworks/Python.framework/Versions/3.7/lib/python3.7/site-packages/sklearn/discriminant_analysis.py\u001b[0m in \u001b[0;36mfit\u001b[0;34m(self, X, y)\u001b[0m\n\u001b[1;32m    478\u001b[0m             \u001b[0;32mif\u001b[0m \u001b[0mself\u001b[0m\u001b[0;34m.\u001b[0m\u001b[0mshrinkage\u001b[0m \u001b[0;32mis\u001b[0m \u001b[0;32mnot\u001b[0m \u001b[0;32mNone\u001b[0m\u001b[0;34m:\u001b[0m\u001b[0;34m\u001b[0m\u001b[0;34m\u001b[0m\u001b[0m\n\u001b[1;32m    479\u001b[0m                 \u001b[0;32mraise\u001b[0m \u001b[0mNotImplementedError\u001b[0m\u001b[0;34m(\u001b[0m\u001b[0;34m'shrinkage not supported'\u001b[0m\u001b[0;34m)\u001b[0m\u001b[0;34m\u001b[0m\u001b[0;34m\u001b[0m\u001b[0m\n\u001b[0;32m--> 480\u001b[0;31m             \u001b[0mself\u001b[0m\u001b[0;34m.\u001b[0m\u001b[0m_solve_svd\u001b[0m\u001b[0;34m(\u001b[0m\u001b[0mX\u001b[0m\u001b[0;34m,\u001b[0m \u001b[0my\u001b[0m\u001b[0;34m)\u001b[0m\u001b[0;34m\u001b[0m\u001b[0;34m\u001b[0m\u001b[0m\n\u001b[0m\u001b[1;32m    481\u001b[0m         \u001b[0;32melif\u001b[0m \u001b[0mself\u001b[0m\u001b[0;34m.\u001b[0m\u001b[0msolver\u001b[0m \u001b[0;34m==\u001b[0m \u001b[0;34m'lsqr'\u001b[0m\u001b[0;34m:\u001b[0m\u001b[0;34m\u001b[0m\u001b[0;34m\u001b[0m\u001b[0m\n\u001b[1;32m    482\u001b[0m             \u001b[0mself\u001b[0m\u001b[0;34m.\u001b[0m\u001b[0m_solve_lsqr\u001b[0m\u001b[0;34m(\u001b[0m\u001b[0mX\u001b[0m\u001b[0;34m,\u001b[0m \u001b[0my\u001b[0m\u001b[0;34m,\u001b[0m \u001b[0mshrinkage\u001b[0m\u001b[0;34m=\u001b[0m\u001b[0mself\u001b[0m\u001b[0;34m.\u001b[0m\u001b[0mshrinkage\u001b[0m\u001b[0;34m)\u001b[0m\u001b[0;34m\u001b[0m\u001b[0;34m\u001b[0m\u001b[0m\n",
      "\u001b[0;32m/Library/Frameworks/Python.framework/Versions/3.7/lib/python3.7/site-packages/sklearn/discriminant_analysis.py\u001b[0m in \u001b[0;36m_solve_svd\u001b[0;34m(self, X, y)\u001b[0m\n\u001b[1;32m    362\u001b[0m         \u001b[0mself\u001b[0m\u001b[0;34m.\u001b[0m\u001b[0mmeans_\u001b[0m \u001b[0;34m=\u001b[0m \u001b[0m_class_means\u001b[0m\u001b[0;34m(\u001b[0m\u001b[0mX\u001b[0m\u001b[0;34m,\u001b[0m \u001b[0my\u001b[0m\u001b[0;34m)\u001b[0m\u001b[0;34m\u001b[0m\u001b[0;34m\u001b[0m\u001b[0m\n\u001b[1;32m    363\u001b[0m         \u001b[0;32mif\u001b[0m \u001b[0mself\u001b[0m\u001b[0;34m.\u001b[0m\u001b[0mstore_covariance\u001b[0m\u001b[0;34m:\u001b[0m\u001b[0;34m\u001b[0m\u001b[0;34m\u001b[0m\u001b[0m\n\u001b[0;32m--> 364\u001b[0;31m             \u001b[0mself\u001b[0m\u001b[0;34m.\u001b[0m\u001b[0mcovariance_\u001b[0m \u001b[0;34m=\u001b[0m \u001b[0m_class_cov\u001b[0m\u001b[0;34m(\u001b[0m\u001b[0mX\u001b[0m\u001b[0;34m,\u001b[0m \u001b[0my\u001b[0m\u001b[0;34m,\u001b[0m \u001b[0mself\u001b[0m\u001b[0;34m.\u001b[0m\u001b[0mpriors_\u001b[0m\u001b[0;34m)\u001b[0m\u001b[0;34m\u001b[0m\u001b[0;34m\u001b[0m\u001b[0m\n\u001b[0m\u001b[1;32m    365\u001b[0m \u001b[0;34m\u001b[0m\u001b[0m\n\u001b[1;32m    366\u001b[0m         \u001b[0mXc\u001b[0m \u001b[0;34m=\u001b[0m \u001b[0;34m[\u001b[0m\u001b[0;34m]\u001b[0m\u001b[0;34m\u001b[0m\u001b[0;34m\u001b[0m\u001b[0m\n",
      "\u001b[0;32m/Library/Frameworks/Python.framework/Versions/3.7/lib/python3.7/site-packages/sklearn/discriminant_analysis.py\u001b[0m in \u001b[0;36m_class_cov\u001b[0;34m(X, y, priors, shrinkage)\u001b[0m\n\u001b[1;32m    123\u001b[0m     \u001b[0;32mfor\u001b[0m \u001b[0midx\u001b[0m\u001b[0;34m,\u001b[0m \u001b[0mgroup\u001b[0m \u001b[0;32min\u001b[0m \u001b[0menumerate\u001b[0m\u001b[0;34m(\u001b[0m\u001b[0mclasses\u001b[0m\u001b[0;34m)\u001b[0m\u001b[0;34m:\u001b[0m\u001b[0;34m\u001b[0m\u001b[0;34m\u001b[0m\u001b[0m\n\u001b[1;32m    124\u001b[0m         \u001b[0mXg\u001b[0m \u001b[0;34m=\u001b[0m \u001b[0mX\u001b[0m\u001b[0;34m[\u001b[0m\u001b[0my\u001b[0m \u001b[0;34m==\u001b[0m \u001b[0mgroup\u001b[0m\u001b[0;34m,\u001b[0m \u001b[0;34m:\u001b[0m\u001b[0;34m]\u001b[0m\u001b[0;34m\u001b[0m\u001b[0;34m\u001b[0m\u001b[0m\n\u001b[0;32m--> 125\u001b[0;31m         \u001b[0mcov\u001b[0m \u001b[0;34m+=\u001b[0m \u001b[0mpriors\u001b[0m\u001b[0;34m[\u001b[0m\u001b[0midx\u001b[0m\u001b[0;34m]\u001b[0m \u001b[0;34m*\u001b[0m \u001b[0mnp\u001b[0m\u001b[0;34m.\u001b[0m\u001b[0matleast_2d\u001b[0m\u001b[0;34m(\u001b[0m\u001b[0m_cov\u001b[0m\u001b[0;34m(\u001b[0m\u001b[0mXg\u001b[0m\u001b[0;34m,\u001b[0m \u001b[0mshrinkage\u001b[0m\u001b[0;34m)\u001b[0m\u001b[0;34m)\u001b[0m\u001b[0;34m\u001b[0m\u001b[0;34m\u001b[0m\u001b[0m\n\u001b[0m\u001b[1;32m    126\u001b[0m     \u001b[0;32mreturn\u001b[0m \u001b[0mcov\u001b[0m\u001b[0;34m\u001b[0m\u001b[0;34m\u001b[0m\u001b[0m\n\u001b[1;32m    127\u001b[0m \u001b[0;34m\u001b[0m\u001b[0m\n",
      "\u001b[0;32m/Library/Frameworks/Python.framework/Versions/3.7/lib/python3.7/site-packages/sklearn/discriminant_analysis.py\u001b[0m in \u001b[0;36m_cov\u001b[0;34m(X, shrinkage)\u001b[0m\n\u001b[1;32m     58\u001b[0m             \u001b[0ms\u001b[0m \u001b[0;34m=\u001b[0m \u001b[0msc\u001b[0m\u001b[0;34m.\u001b[0m\u001b[0mscale_\u001b[0m\u001b[0;34m[\u001b[0m\u001b[0;34m:\u001b[0m\u001b[0;34m,\u001b[0m \u001b[0mnp\u001b[0m\u001b[0;34m.\u001b[0m\u001b[0mnewaxis\u001b[0m\u001b[0;34m]\u001b[0m \u001b[0;34m*\u001b[0m \u001b[0ms\u001b[0m \u001b[0;34m*\u001b[0m \u001b[0msc\u001b[0m\u001b[0;34m.\u001b[0m\u001b[0mscale_\u001b[0m\u001b[0;34m[\u001b[0m\u001b[0mnp\u001b[0m\u001b[0;34m.\u001b[0m\u001b[0mnewaxis\u001b[0m\u001b[0;34m,\u001b[0m \u001b[0;34m:\u001b[0m\u001b[0;34m]\u001b[0m\u001b[0;34m\u001b[0m\u001b[0;34m\u001b[0m\u001b[0m\n\u001b[1;32m     59\u001b[0m         \u001b[0;32melif\u001b[0m \u001b[0mshrinkage\u001b[0m \u001b[0;34m==\u001b[0m \u001b[0;34m'empirical'\u001b[0m\u001b[0;34m:\u001b[0m\u001b[0;34m\u001b[0m\u001b[0;34m\u001b[0m\u001b[0m\n\u001b[0;32m---> 60\u001b[0;31m             \u001b[0ms\u001b[0m \u001b[0;34m=\u001b[0m \u001b[0mempirical_covariance\u001b[0m\u001b[0;34m(\u001b[0m\u001b[0mX\u001b[0m\u001b[0;34m)\u001b[0m\u001b[0;34m\u001b[0m\u001b[0;34m\u001b[0m\u001b[0m\n\u001b[0m\u001b[1;32m     61\u001b[0m         \u001b[0;32melse\u001b[0m\u001b[0;34m:\u001b[0m\u001b[0;34m\u001b[0m\u001b[0;34m\u001b[0m\u001b[0m\n\u001b[1;32m     62\u001b[0m             \u001b[0;32mraise\u001b[0m \u001b[0mValueError\u001b[0m\u001b[0;34m(\u001b[0m\u001b[0;34m'unknown shrinkage parameter'\u001b[0m\u001b[0;34m)\u001b[0m\u001b[0;34m\u001b[0m\u001b[0;34m\u001b[0m\u001b[0m\n",
      "\u001b[0;32m/Library/Frameworks/Python.framework/Versions/3.7/lib/python3.7/site-packages/sklearn/covariance/empirical_covariance_.py\u001b[0m in \u001b[0;36mempirical_covariance\u001b[0;34m(X, assume_centered)\u001b[0m\n\u001b[1;32m     79\u001b[0m         \u001b[0mcovariance\u001b[0m \u001b[0;34m=\u001b[0m \u001b[0mnp\u001b[0m\u001b[0;34m.\u001b[0m\u001b[0mdot\u001b[0m\u001b[0;34m(\u001b[0m\u001b[0mX\u001b[0m\u001b[0;34m.\u001b[0m\u001b[0mT\u001b[0m\u001b[0;34m,\u001b[0m \u001b[0mX\u001b[0m\u001b[0;34m)\u001b[0m \u001b[0;34m/\u001b[0m \u001b[0mX\u001b[0m\u001b[0;34m.\u001b[0m\u001b[0mshape\u001b[0m\u001b[0;34m[\u001b[0m\u001b[0;36m0\u001b[0m\u001b[0;34m]\u001b[0m\u001b[0;34m\u001b[0m\u001b[0;34m\u001b[0m\u001b[0m\n\u001b[1;32m     80\u001b[0m     \u001b[0;32melse\u001b[0m\u001b[0;34m:\u001b[0m\u001b[0;34m\u001b[0m\u001b[0;34m\u001b[0m\u001b[0m\n\u001b[0;32m---> 81\u001b[0;31m         \u001b[0mcovariance\u001b[0m \u001b[0;34m=\u001b[0m \u001b[0mnp\u001b[0m\u001b[0;34m.\u001b[0m\u001b[0mcov\u001b[0m\u001b[0;34m(\u001b[0m\u001b[0mX\u001b[0m\u001b[0;34m.\u001b[0m\u001b[0mT\u001b[0m\u001b[0;34m,\u001b[0m \u001b[0mbias\u001b[0m\u001b[0;34m=\u001b[0m\u001b[0;36m1\u001b[0m\u001b[0;34m)\u001b[0m\u001b[0;34m\u001b[0m\u001b[0;34m\u001b[0m\u001b[0m\n\u001b[0m\u001b[1;32m     82\u001b[0m \u001b[0;34m\u001b[0m\u001b[0m\n\u001b[1;32m     83\u001b[0m     \u001b[0;32mif\u001b[0m \u001b[0mcovariance\u001b[0m\u001b[0;34m.\u001b[0m\u001b[0mndim\u001b[0m \u001b[0;34m==\u001b[0m \u001b[0;36m0\u001b[0m\u001b[0;34m:\u001b[0m\u001b[0;34m\u001b[0m\u001b[0;34m\u001b[0m\u001b[0m\n",
      "\u001b[0;32m/Library/Frameworks/Python.framework/Versions/3.7/lib/python3.7/site-packages/numpy/lib/function_base.py\u001b[0m in \u001b[0;36mcov\u001b[0;34m(m, y, rowvar, bias, ddof, fweights, aweights)\u001b[0m\n\u001b[1;32m   2449\u001b[0m         \u001b[0mX_T\u001b[0m \u001b[0;34m=\u001b[0m \u001b[0;34m(\u001b[0m\u001b[0mX\u001b[0m\u001b[0;34m*\u001b[0m\u001b[0mw\u001b[0m\u001b[0;34m)\u001b[0m\u001b[0;34m.\u001b[0m\u001b[0mT\u001b[0m\u001b[0;34m\u001b[0m\u001b[0;34m\u001b[0m\u001b[0m\n\u001b[1;32m   2450\u001b[0m     \u001b[0mc\u001b[0m \u001b[0;34m=\u001b[0m \u001b[0mdot\u001b[0m\u001b[0;34m(\u001b[0m\u001b[0mX\u001b[0m\u001b[0;34m,\u001b[0m \u001b[0mX_T\u001b[0m\u001b[0;34m.\u001b[0m\u001b[0mconj\u001b[0m\u001b[0;34m(\u001b[0m\u001b[0;34m)\u001b[0m\u001b[0;34m)\u001b[0m\u001b[0;34m\u001b[0m\u001b[0;34m\u001b[0m\u001b[0m\n\u001b[0;32m-> 2451\u001b[0;31m     \u001b[0mc\u001b[0m \u001b[0;34m*=\u001b[0m \u001b[0mnp\u001b[0m\u001b[0;34m.\u001b[0m\u001b[0mtrue_divide\u001b[0m\u001b[0;34m(\u001b[0m\u001b[0;36m1\u001b[0m\u001b[0;34m,\u001b[0m \u001b[0mfact\u001b[0m\u001b[0;34m)\u001b[0m\u001b[0;34m\u001b[0m\u001b[0;34m\u001b[0m\u001b[0m\n\u001b[0m\u001b[1;32m   2452\u001b[0m     \u001b[0;32mreturn\u001b[0m \u001b[0mc\u001b[0m\u001b[0;34m.\u001b[0m\u001b[0msqueeze\u001b[0m\u001b[0;34m(\u001b[0m\u001b[0;34m)\u001b[0m\u001b[0;34m\u001b[0m\u001b[0;34m\u001b[0m\u001b[0m\n\u001b[1;32m   2453\u001b[0m \u001b[0;34m\u001b[0m\u001b[0m\n",
      "\u001b[0;31mKeyboardInterrupt\u001b[0m: "
     ]
    }
   ],
   "source": [
    "lda = LDA(store_covariance=True)\n",
    "#X_r2 = lda.fit_transform(X, y)\n",
    "X_r2 = lda.fit(X, y).transform(X)\n",
    "plt.figure()\n",
    "colors = [ 'turquoise', 'darkorange']\n",
    "for color, i, target_name in zip(colors, [0, 1, 2], dfM):\n",
    "    plt.scatter(X_r2[y == i, 0], X_r2[y == i, 1], alpha=.8, color=color,\n",
    "                label=target_name)\n",
    "plt.legend(loc='best', shadow=False, scatterpoints=1)\n",
    "plt.title('LDA for breast cancer')\n",
    "\n",
    "plt.show()"
   ]
  },
  {
   "cell_type": "code",
   "execution_count": 198,
   "metadata": {},
   "outputs": [
    {
     "data": {
      "text/plain": [
       "array([[ 1.01738008],\n",
       "       [ 0.39180469],\n",
       "       [ 0.53560183],\n",
       "       [ 1.30543617],\n",
       "       [ 1.07894888],\n",
       "       [-0.66786428],\n",
       "       [-1.08828933],\n",
       "       [ 0.4833784 ],\n",
       "       [ 0.45157728],\n",
       "       [ 0.83945047],\n",
       "       [-0.79243718],\n",
       "       [ 1.29612577],\n",
       "       [ 1.37598539],\n",
       "       [ 0.68448739],\n",
       "       [ 0.30722953],\n",
       "       [ 1.62794055],\n",
       "       [ 0.46140701],\n",
       "       [ 0.25951451],\n",
       "       [-1.03351259],\n",
       "       [-0.44472192],\n",
       "       [-0.78962624],\n",
       "       [-2.03334944],\n",
       "       [ 0.27235312],\n",
       "       [-0.03899702],\n",
       "       [-1.08970363],\n",
       "       [-0.64136104],\n",
       "       [-1.01706127],\n",
       "       [-2.0673094 ],\n",
       "       [ 0.05718198],\n",
       "       [ 1.54932789],\n",
       "       [ 1.2072909 ],\n",
       "       [ 1.4197083 ],\n",
       "       [ 0.65636612],\n",
       "       [-1.34715457],\n",
       "       [ 0.80404095],\n",
       "       [-1.58267368],\n",
       "       [ 0.55070756],\n",
       "       [-1.72114024],\n",
       "       [ 0.61245821],\n",
       "       [ 1.3211611 ],\n",
       "       [-3.15058858],\n",
       "       [ 0.59918656],\n",
       "       [ 0.0378241 ],\n",
       "       [-2.09138811],\n",
       "       [ 0.89822628],\n",
       "       [ 0.1053451 ],\n",
       "       [ 1.80614765],\n",
       "       [ 1.1271195 ],\n",
       "       [-1.63154857],\n",
       "       [-0.32014682],\n",
       "       [ 0.17259585],\n",
       "       [-0.13450502],\n",
       "       [ 0.72994611],\n",
       "       [ 1.11668715],\n",
       "       [ 1.41622935],\n",
       "       [ 2.01816978],\n",
       "       [ 0.39199572],\n",
       "       [-0.26668543],\n",
       "       [ 0.62856888],\n",
       "       [-1.75390545],\n",
       "       [-0.81089269],\n",
       "       [-1.82415391],\n",
       "       [-0.45472644],\n",
       "       [ 0.62828766],\n",
       "       [ 0.09436108],\n",
       "       [-2.52290894],\n",
       "       [ 0.87725297],\n",
       "       [ 0.03516542],\n",
       "       [-0.3174345 ],\n",
       "       [ 0.63882178],\n",
       "       [ 0.57591344],\n",
       "       [-2.51722867],\n",
       "       [ 0.5052363 ],\n",
       "       [ 0.79434957],\n",
       "       [ 0.58993173],\n",
       "       [-1.10827137],\n",
       "       [ 0.11639952],\n",
       "       [ 0.96663399],\n",
       "       [ 0.47859011],\n",
       "       [ 0.36778464],\n",
       "       [ 0.72717899],\n",
       "       [ 0.67056843],\n",
       "       [ 1.56503177],\n",
       "       [ 3.10269009],\n",
       "       [ 0.10646341],\n",
       "       [-2.42791495],\n",
       "       [ 0.83762183],\n",
       "       [ 0.66724753],\n",
       "       [-1.64334577],\n",
       "       [ 0.73219077],\n",
       "       [-0.2958573 ],\n",
       "       [-0.29619881],\n",
       "       [ 0.53340713],\n",
       "       [-2.76728335],\n",
       "       [ 0.98341528],\n",
       "       [ 0.07607772],\n",
       "       [-0.93845947],\n",
       "       [-2.00639554],\n",
       "       [-2.34204388],\n",
       "       [ 1.70935961],\n",
       "       [ 0.28774133],\n",
       "       [ 1.16147351],\n",
       "       [ 0.6912149 ],\n",
       "       [-0.94333982],\n",
       "       [ 1.0996926 ],\n",
       "       [ 0.75467146],\n",
       "       [-2.68202709],\n",
       "       [-2.45984885],\n",
       "       [ 1.05821976],\n",
       "       [-1.17444063],\n",
       "       [ 0.45208111],\n",
       "       [-0.67933426],\n",
       "       [ 0.95565324],\n",
       "       [ 0.3528279 ],\n",
       "       [-0.79608559],\n",
       "       [-1.83177517],\n",
       "       [ 1.26601267],\n",
       "       [ 0.48706667],\n",
       "       [ 0.12576187],\n",
       "       [ 1.08724443],\n",
       "       [ 1.43963854],\n",
       "       [-1.6297994 ],\n",
       "       [-0.39408098],\n",
       "       [-1.56524583],\n",
       "       [ 0.91176646],\n",
       "       [-0.66967086],\n",
       "       [-0.2464826 ],\n",
       "       [ 0.92326318]])"
      ]
     },
     "execution_count": 198,
     "metadata": {},
     "output_type": "execute_result"
    }
   ],
   "source": [
    "X_r2"
   ]
  },
  {
   "cell_type": "code",
   "execution_count": 202,
   "metadata": {},
   "outputs": [
    {
     "data": {
      "image/png": "[encoded data removed]",
      "text/plain": [
       "<Figure size 576x720 with 10 Axes>"
      ]
     },
     "metadata": {
      "needs_background": "light"
     },
     "output_type": "display_data"
    }
   ],
   "source": [
    "%matplotlib inline \n",
    "import matplotlib.pyplot as plt # side-stepping mpl backend\n",
    "import matplotlib.gridspec as gridspec # subplots\n",
    "import mpld3 as mpl#Stack the data\n",
    "plt.rcParams.update({'font.size': 8})\n",
    "fig, axes = plt.subplots(nrows=5, ncols=2, figsize=(8,10))\n",
    "axes = axes.ravel()\n",
    "for idx,ax in enumerate(axes):\n",
    "    ax.figure\n",
    "    binwidth = max(value_matrix[idx]) - min(value_matrix[idx])\n",
    "    ax.hist([dfM[idx]], bins=np.arange(min(value_matrix[idx]), max(value_matrix[idx]) + binwidth, binwidth) , alpha=0.5,stacked=True, normed = True, label=['L','NL'],color=['g'])\n",
    "    ax.legend(loc='upper right')\n",
    "    ax.set_title(idx)\n",
    "plt.tight_layout()\n",
    "plt.show()"
   ]
  },
  {
   "cell_type": "code",
   "execution_count": 92,
   "metadata": {},
   "outputs": [],
   "source": [
    "import pandas as pd\n",
    "import numpy as np\n",
    "from scipy.linalg import svd\n",
    "from numpy.linalg import svd\n",
    "import matplotlib.pylab as plt\n",
    "from numpy import array\n",
    "import os\n",
    "\n",
    "file = \"../Dataset/breast_preprocessed.xls\"\n",
    "\n",
    "\n",
    "def read_data():\n",
    "    \"\"\"\n",
    "    read excel\n",
    "    \"\"\"\n",
    "    data = pd.read_excel(file, header=None)\n",
    "    # Taking the whole dataset ignoring the class labels\n",
    "    X = np.array(data.iloc[0:len(data.index)-2, 1:], dtype = np.float64).transpose()\n",
    "\n",
    "    return X, data.to_numpy().T\n",
    "\n",
    "\n",
    "def mysvd(A):\n",
    "    # get eigen values and eigen vectors from matrix\n",
    "    S, U = np.linalg.eig(A.dot(A.T))\n",
    "    # sigma is sqrt of eigen values\n",
    "    S = np.diag(sorted(np.sqrt(S), reverse=True))\n",
    "    return U, S\n",
    "\n",
    "\n",
    "def mean_centered(A):\n",
    "    \"\"\"\n",
    "    subtract mean from A matrix\n",
    "    return: mean centered matrix\n",
    "    \"\"\"\n",
    "    mean_vector = np.mean(X, axis = 0)\n",
    "    A = A - mean_vector\n",
    "    # for i in range(A.shape[0]):\n",
    "    #     A[i,] = X[i] - mean_vector[i]\n",
    "\n",
    "    return A\n",
    "\n",
    "\n",
    "def calculateCovariance(X):\n",
    "    lenX = X.shape[1]\n",
    "    covariance = X.T.dot(X)/lenX-1\n",
    "    return covariance\n",
    "\n",
    "\n",
    "X, data = read_data()\n",
    "X = mean_centered(X)\n",
    "\n",
    "U, S = mysvd(X)\n",
    "zeros = np.zeros((X.shape[0], X.shape[1]), dtype=np.float32)\n",
    "\n",
    "XV = U.dot(S)\n",
    "# U, s, VT = svd(X, full_matrices=False)\n",
    "\n",
    "# cov_mat = np.cov(eig_vec)\n",
    "# eig_vec = VT\n",
    "# eig_val = S\n",
    "# Make a list of (eigenvalue, eigenvector) tuples\n",
    "# eig_pairs = [(np.abs(eig_val[i]), eig_vec[:,i]) for i in range(len(eig_vec))]\n",
    "# Sort the (eigenvalue, eigenvector) tuples from high to low\n",
    "# eig_pairs.sort(key=lambda x: x[0], reverse=True)\n",
    "# Visually confirm that the list is correctly sorted by decreasing eigenvalues\n",
    "# for i in eig_pairs:\n",
    "#     print(i[0])\n",
    "\n",
    "# Choosing k eigenvectors with the largest eigenvalues\n",
    "# matrix_w = np.hstack((eig_pairs[0][1].reshape(128, 1), eig_pairs[1][1].reshape(128, 1)))\n",
    "# print(matrix_w)\n",
    "\n",
    "# Transforming the samples onto the new subspace\n",
    "# transformed = matrix_w.T.dot(X)\n"
   ]
  },
  {
   "cell_type": "code",
   "execution_count": 124,
   "metadata": {},
   "outputs": [
    {
     "data": {
      "text/plain": [
       "array([[-0.25658672, -0.01024531, -0.19634687, ...,  0.0597125 ,\n",
       "         0.02704219,  0.02114453],\n",
       "       [ 0.02771328,  0.01795469, -0.09264687, ..., -0.0310875 ,\n",
       "         0.07794219,  0.01124453],\n",
       "       [ 0.01991328, -0.05364531, -0.20404687, ...,  0.0502125 ,\n",
       "         0.04724219, -0.01355547],\n",
       "       ...,\n",
       "       [ 0.01691328, -0.05294531,  0.19245313, ..., -0.0414875 ,\n",
       "         0.01264219, -0.02665547],\n",
       "       [-0.16188672,  0.12735469,  0.14715313, ...,  0.0240125 ,\n",
       "        -0.00315781,  0.00794453],\n",
       "       [-0.06038672, -0.00474531,  0.01835313, ..., -0.0634875 ,\n",
       "        -0.00065781, -0.03315547]])"
      ]
     },
     "execution_count": 124,
     "metadata": {},
     "output_type": "execute_result"
    }
   ],
   "source": [
    "X"
   ]
  },
  {
   "cell_type": "code",
   "execution_count": null,
   "metadata": {},
   "outputs": [],
   "source": []
  }
 ],
 "metadata": {
  "kernelspec": {
   "display_name": "Python 3",
   "language": "python",
   "name": "python3"
  },
  "language_info": {
   "codemirror_mode": {
    "name": "ipython",
    "version": 3
   },
   "file_extension": ".py",
   "mimetype": "text/x-python",
   "name": "python",
   "nbconvert_exporter": "python",
   "pygments_lexer": "ipython3",
   "version": "3.7.1"
  }
 },
 "nbformat": 4,
 "nbformat_minor": 2
}
