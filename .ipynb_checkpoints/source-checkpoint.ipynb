{
 "cells": [
  {
   "cell_type": "code",
   "execution_count": 1,
   "metadata": {},
   "outputs": [],
   "source": [
    "import pandas as pd\n",
    "import numpy as np\n",
    "import xlrd"
   ]
  },
  {
   "cell_type": "code",
   "execution_count": 2,
   "metadata": {},
   "outputs": [],
   "source": [
    "data = pd.read_excel(\"../Dataset/breast_preprocessed.xls\",header=None)\n",
    "# data.append(xlrd.open_workbook(\"../Dataset/breast_preprocessed.xls\"))"
   ]
  },
  {
   "cell_type": "code",
   "execution_count": 3,
   "metadata": {},
   "outputs": [
    {
     "data": {
      "text/html": [
       "<div>\n",
       "<style scoped>\n",
       "    .dataframe tbody tr th:only-of-type {\n",
       "        vertical-align: middle;\n",
       "    }\n",
       "\n",
       "    .dataframe tbody tr th {\n",
       "        vertical-align: top;\n",
       "    }\n",
       "\n",
       "    .dataframe thead th {\n",
       "        text-align: right;\n",
       "    }\n",
       "</style>\n",
       "<table border=\"1\" class=\"dataframe\">\n",
       "  <thead>\n",
       "    <tr style=\"text-align: right;\">\n",
       "      <th></th>\n",
       "      <th>0</th>\n",
       "      <th>1</th>\n",
       "      <th>2</th>\n",
       "      <th>3</th>\n",
       "      <th>4</th>\n",
       "      <th>5</th>\n",
       "      <th>6</th>\n",
       "      <th>7</th>\n",
       "      <th>8</th>\n",
       "      <th>9</th>\n",
       "      <th>...</th>\n",
       "      <th>119</th>\n",
       "      <th>120</th>\n",
       "      <th>121</th>\n",
       "      <th>122</th>\n",
       "      <th>123</th>\n",
       "      <th>124</th>\n",
       "      <th>125</th>\n",
       "      <th>126</th>\n",
       "      <th>127</th>\n",
       "      <th>128</th>\n",
       "    </tr>\n",
       "  </thead>\n",
       "  <tbody>\n",
       "    <tr>\n",
       "      <th>47290</th>\n",
       "      <td>pheA</td>\n",
       "      <td>5.705</td>\n",
       "      <td>5.6142</td>\n",
       "      <td>5.6955</td>\n",
       "      <td>5.6227</td>\n",
       "      <td>5.6727</td>\n",
       "      <td>5.5995</td>\n",
       "      <td>5.633</td>\n",
       "      <td>5.6539</td>\n",
       "      <td>5.6511</td>\n",
       "      <td>...</td>\n",
       "      <td>5.6595</td>\n",
       "      <td>5.6292</td>\n",
       "      <td>5.6042</td>\n",
       "      <td>5.6266</td>\n",
       "      <td>5.6022</td>\n",
       "      <td>5.6709</td>\n",
       "      <td>5.6136</td>\n",
       "      <td>5.6038</td>\n",
       "      <td>5.6693</td>\n",
       "      <td>5.5818</td>\n",
       "    </tr>\n",
       "    <tr>\n",
       "      <th>47291</th>\n",
       "      <td>thrB</td>\n",
       "      <td>5.7077</td>\n",
       "      <td>5.7586</td>\n",
       "      <td>5.7279</td>\n",
       "      <td>5.6777</td>\n",
       "      <td>5.6761</td>\n",
       "      <td>5.7091</td>\n",
       "      <td>5.6777</td>\n",
       "      <td>5.68</td>\n",
       "      <td>5.6763</td>\n",
       "      <td>...</td>\n",
       "      <td>5.6918</td>\n",
       "      <td>5.6501</td>\n",
       "      <td>5.5772</td>\n",
       "      <td>5.6637</td>\n",
       "      <td>5.6556</td>\n",
       "      <td>5.6587</td>\n",
       "      <td>5.6987</td>\n",
       "      <td>5.6933</td>\n",
       "      <td>5.6775</td>\n",
       "      <td>5.68</td>\n",
       "    </tr>\n",
       "    <tr>\n",
       "      <th>47292</th>\n",
       "      <td>trpF</td>\n",
       "      <td>5.6684</td>\n",
       "      <td>5.6585</td>\n",
       "      <td>5.6337</td>\n",
       "      <td>5.6427</td>\n",
       "      <td>5.6371</td>\n",
       "      <td>5.6691</td>\n",
       "      <td>5.62</td>\n",
       "      <td>5.6199</td>\n",
       "      <td>5.6608</td>\n",
       "      <td>...</td>\n",
       "      <td>5.6392</td>\n",
       "      <td>5.6451</td>\n",
       "      <td>5.6149</td>\n",
       "      <td>5.551</td>\n",
       "      <td>5.605</td>\n",
       "      <td>5.6246</td>\n",
       "      <td>5.5404</td>\n",
       "      <td>5.6206</td>\n",
       "      <td>5.6552</td>\n",
       "      <td>5.6141</td>\n",
       "    </tr>\n",
       "    <tr>\n",
       "      <th>47293</th>\n",
       "      <td>y</td>\n",
       "      <td>luminal</td>\n",
       "      <td>luminal</td>\n",
       "      <td>luminal</td>\n",
       "      <td>luminal</td>\n",
       "      <td>luminal</td>\n",
       "      <td>non-luminal</td>\n",
       "      <td>non-luminal</td>\n",
       "      <td>luminal</td>\n",
       "      <td>luminal</td>\n",
       "      <td>...</td>\n",
       "      <td>luminal</td>\n",
       "      <td>luminal</td>\n",
       "      <td>luminal</td>\n",
       "      <td>non-luminal</td>\n",
       "      <td>non-luminal</td>\n",
       "      <td>luminal</td>\n",
       "      <td>luminal</td>\n",
       "      <td>luminal</td>\n",
       "      <td>non-luminal</td>\n",
       "      <td>luminal</td>\n",
       "    </tr>\n",
       "    <tr>\n",
       "      <th>47294</th>\n",
       "      <td>NaN</td>\n",
       "      <td>1</td>\n",
       "      <td>1</td>\n",
       "      <td>1</td>\n",
       "      <td>1</td>\n",
       "      <td>1</td>\n",
       "      <td>2</td>\n",
       "      <td>2</td>\n",
       "      <td>1</td>\n",
       "      <td>1</td>\n",
       "      <td>...</td>\n",
       "      <td>1</td>\n",
       "      <td>1</td>\n",
       "      <td>1</td>\n",
       "      <td>2</td>\n",
       "      <td>2</td>\n",
       "      <td>1</td>\n",
       "      <td>1</td>\n",
       "      <td>1</td>\n",
       "      <td>2</td>\n",
       "      <td>1</td>\n",
       "    </tr>\n",
       "  </tbody>\n",
       "</table>\n",
       "<p>5 rows × 129 columns</p>\n",
       "</div>"
      ],
      "text/plain": [
       "        0        1        2        3        4        5            6    \\\n",
       "47290  pheA    5.705   5.6142   5.6955   5.6227   5.6727       5.5995   \n",
       "47291  thrB   5.7077   5.7586   5.7279   5.6777   5.6761       5.7091   \n",
       "47292  trpF   5.6684   5.6585   5.6337   5.6427   5.6371       5.6691   \n",
       "47293     y  luminal  luminal  luminal  luminal  luminal  non-luminal   \n",
       "47294   NaN        1        1        1        1        1            2   \n",
       "\n",
       "               7        8        9    ...      119      120      121  \\\n",
       "47290        5.633   5.6539   5.6511  ...   5.6595   5.6292   5.6042   \n",
       "47291       5.6777     5.68   5.6763  ...   5.6918   5.6501   5.5772   \n",
       "47292         5.62   5.6199   5.6608  ...   5.6392   5.6451   5.6149   \n",
       "47293  non-luminal  luminal  luminal  ...  luminal  luminal  luminal   \n",
       "47294            2        1        1  ...        1        1        1   \n",
       "\n",
       "               122          123      124      125      126          127  \\\n",
       "47290       5.6266       5.6022   5.6709   5.6136   5.6038       5.6693   \n",
       "47291       5.6637       5.6556   5.6587   5.6987   5.6933       5.6775   \n",
       "47292        5.551        5.605   5.6246   5.5404   5.6206       5.6552   \n",
       "47293  non-luminal  non-luminal  luminal  luminal  luminal  non-luminal   \n",
       "47294            2            2        1        1        1            2   \n",
       "\n",
       "           128  \n",
       "47290   5.5818  \n",
       "47291     5.68  \n",
       "47292   5.6141  \n",
       "47293  luminal  \n",
       "47294        1  \n",
       "\n",
       "[5 rows x 129 columns]"
      ]
     },
     "execution_count": 3,
     "metadata": {},
     "output_type": "execute_result"
    }
   ],
   "source": [
    "data.tail()"
   ]
  },
  {
   "cell_type": "code",
   "execution_count": 4,
   "metadata": {},
   "outputs": [],
   "source": [
    "data=data.replace(0,np.NaN)\n",
    "data = data.drop_duplicates()\n",
    "copy = data"
   ]
  },
  {
   "cell_type": "markdown",
   "metadata": {},
   "source": [
    "Run this command in order to get an output"
   ]
  },
  {
   "cell_type": "code",
   "execution_count": 13,
   "metadata": {},
   "outputs": [],
   "source": [
    "# pip install xlwt required\n",
    "# data.to_excel(r'test.xls',header=False,index=False)"
   ]
  },
  {
   "cell_type": "markdown",
   "metadata": {},
   "source": [
    "Cropping only values for PCA and LDA"
   ]
  },
  {
   "cell_type": "code",
   "execution_count": 17,
   "metadata": {},
   "outputs": [
    {
     "data": {
      "text/plain": [
       "array([[-0.2566  , -0.01025 , -0.1963  , ...,  0.05972 ,  0.02704 ,\n",
       "         0.02115 ],\n",
       "       [ 0.02771 ,  0.01796 , -0.09265 , ..., -0.03108 ,  0.07794 ,\n",
       "         0.011246],\n",
       "       [ 0.01991 , -0.05365 , -0.2041  , ...,  0.0502  ,  0.04724 ,\n",
       "        -0.01356 ],\n",
       "       ...,\n",
       "       [ 0.0169  , -0.05295 ,  0.1925  , ..., -0.04147 ,  0.01264 ,\n",
       "        -0.02666 ],\n",
       "       [-0.1619  ,  0.1273  ,  0.1471  , ...,  0.02402 , -0.003159,\n",
       "         0.00794 ],\n",
       "       [-0.0604  , -0.004745,  0.01836 , ..., -0.0635  , -0.000658,\n",
       "        -0.03314 ]], dtype=float16)"
      ]
     },
     "execution_count": 17,
     "metadata": {},
     "output_type": "execute_result"
    }
   ],
   "source": [
    "value_matrix = np.array(data.iloc[0:len(data.index)-2, 1:], dtype = np.float16).transpose()\n",
    "value_matrix"
   ]
  },
  {
   "cell_type": "markdown",
   "metadata": {},
   "source": [
    "array of labels (luminal or not-luminal as 1 and 0)"
   ]
  },
  {
   "cell_type": "code",
   "execution_count": 7,
   "metadata": {},
   "outputs": [
    {
     "data": {
      "text/plain": [
       "128"
      ]
     },
     "execution_count": 7,
     "metadata": {},
     "output_type": "execute_result"
    }
   ],
   "source": [
    "dfM = []\n",
    "for i in range(1,len(data.columns)):\n",
    "    if data.at[data.index[47293],i] == 'luminal':\n",
    "        dfM.append(1)\n",
    "    else:\n",
    "        dfM.append(0)\n",
    "len(dfM)"
   ]
  },
  {
   "cell_type": "code",
   "execution_count": 11,
   "metadata": {},
   "outputs": [],
   "source": [
    "#from sklearn.model_selection import train_test_split\n",
    "# X_train, X_test, y_train, y_test = train_test_split(X, y, test_size=0.2, random_state=0)\n",
    "# len(X_train[0])"
   ]
  },
  {
   "cell_type": "markdown",
   "metadata": {},
   "source": [
    "Mean Centering for using a manual LDA (in this case we didn't completely implemented manual LDA)\n",
    "<br>you can either use manual implementation or library to standardize data"
   ]
  },
  {
   "cell_type": "code",
   "execution_count": 15,
   "metadata": {},
   "outputs": [
    {
     "data": {
      "text/plain": [
       "array([[5.34 , 5.848, 6.707, ..., 5.703, 5.707, 5.668],\n",
       "       [5.625, 5.875, 6.81 , ..., 5.613, 5.758, 5.66 ],\n",
       "       [5.617, 5.8  , 6.7  , ..., 5.695, 5.727, 5.633],\n",
       "       ...,\n",
       "       [5.613, 5.805, 7.094, ..., 5.605, 5.69 , 5.62 ],\n",
       "       [5.438, 5.984, 7.047, ..., 5.668, 5.676, 5.656],\n",
       "       [5.54 , 5.85 , 6.918, ..., 5.582, 5.68 , 5.613]], dtype=float16)"
      ]
     },
     "execution_count": 15,
     "metadata": {},
     "output_type": "execute_result"
    }
   ],
   "source": [
    "from sklearn.preprocessing import StandardScaler\n",
    "\"\"\"\n",
    "data = copy\n",
    "for i in range(len(data.index)-2):\n",
    "    mean = data.iloc[i,1:].mean()\n",
    "    for j in range(1,len(data.columns)):\n",
    "        data.at[data.index[i],j] = str(float(data.at[data.index[i],j]) - float(mean))\n",
    "\"\"\"\n",
    "X = value_matrix\n",
    "y = dfM\n",
    "\n",
    "sc = StandardScaler()\n",
    "X = sc.fit_transform(X)"
   ]
  },
  {
   "cell_type": "code",
   "execution_count": 23,
   "metadata": {},
   "outputs": [
    {
     "name": "stderr",
     "output_type": "stream",
     "text": [
      "/Library/Frameworks/Python.framework/Versions/3.7/lib/python3.7/site-packages/sklearn/discriminant_analysis.py:388: UserWarning: Variables are collinear.\n",
      "  warnings.warn(\"Variables are collinear.\")\n"
     ]
    },
    {
     "data": {
      "image/png": "[encoded data removed]",
      "text/plain": [
       "<Figure size 432x288 with 1 Axes>"
      ]
     },
     "metadata": {
      "needs_background": "light"
     },
     "output_type": "display_data"
    }
   ],
   "source": [
    "from sklearn.discriminant_analysis import LinearDiscriminantAnalysis as LDA\n",
    "%matplotlib inline \n",
    "import matplotlib.pyplot as plt # side-stepping mpl backend\n",
    "import matplotlib.gridspec as gridspec # subplots\n",
    "import mpld3 as mpl#Stack the data\n",
    "\n",
    "lda = LDA()\n",
    "#X_r2 = lda.fit_transform(X, y)\n",
    "X_r2 = lda.fit(X, y).transform(X)\n",
    "plt.figure()\n",
    "colors = [ 'turquoise', 'darkorange']\n",
    "for color, i, target_name in zip(colors, [0, 1, 2], dfM):\n",
    "    plt.scatter(X_r2[y == i, 0], X_r2[y == i, 1], alpha=.8, color=color,\n",
    "                label=target_name)\n",
    "plt.legend(loc='best', shadow=False, scatterpoints=1)\n",
    "plt.title('LDA for breast cancer')\n",
    "\n",
    "plt.show()"
   ]
  },
  {
   "cell_type": "markdown",
   "metadata": {},
   "source": [
    "w vector"
   ]
  },
  {
   "cell_type": "code",
   "execution_count": 25,
   "metadata": {},
   "outputs": [
    {
     "data": {
      "text/plain": [
       "array([[ 0.39184436],\n",
       "       [ 0.53550968],\n",
       "       [ 1.30547952],\n",
       "       [ 1.07903597],\n",
       "       [-0.66789239],\n",
       "       [-1.08825205],\n",
       "       [ 0.48336139],\n",
       "       [ 0.45164167],\n",
       "       [ 0.83949936],\n",
       "       [-0.79247752],\n",
       "       [ 1.29610186],\n",
       "       [ 1.37608258],\n",
       "       [ 0.68449253],\n",
       "       [ 0.30719169],\n",
       "       [ 1.62792595],\n",
       "       [ 0.46147227],\n",
       "       [ 0.25957071],\n",
       "       [-1.03355343],\n",
       "       [-0.44470821]])"
      ]
     },
     "execution_count": 25,
     "metadata": {},
     "output_type": "execute_result"
    }
   ],
   "source": [
    "X_r2[1:20]"
   ]
  },
  {
   "cell_type": "raw",
   "metadata": {},
   "source": [
    "%matplotlib inline \n",
    "import matplotlib.pyplot as plt # side-stepping mpl backend\n",
    "import matplotlib.gridspec as gridspec # subplots\n",
    "import mpld3 as mpl#Stack the data\n",
    "plt.rcParams.update({'font.size': 8})\n",
    "fig, axes = plt.subplots(nrows=5, ncols=2, figsize=(8,10))\n",
    "axes = axes.ravel()\n",
    "for idx,ax in enumerate(axes):\n",
    "    ax.figure\n",
    "    binwidth = max(value_matrix[idx]) - min(value_matrix[idx])\n",
    "    ax.hist([dfM[idx]], bins=np.arange(min(value_matrix[idx]), max(value_matrix[idx]) + binwidth, binwidth) , alpha=0.5,stacked=True, normed = True, label=['L','NL'],color=['g'])\n",
    "    ax.legend(loc='upper right')\n",
    "    ax.set_title(idx)\n",
    "plt.tight_layout()\n",
    "plt.show()"
   ]
  },
  {
   "cell_type": "code",
   "execution_count": null,
   "metadata": {},
   "outputs": [],
   "source": []
  }
 ],
 "metadata": {
  "kernelspec": {
   "display_name": "Python 3",
   "language": "python",
   "name": "python3"
  },
  "language_info": {
   "codemirror_mode": {
    "name": "ipython",
    "version": 3
   },
   "file_extension": ".py",
   "mimetype": "text/x-python",
   "name": "python",
   "nbconvert_exporter": "python",
   "pygments_lexer": "ipython3",
   "version": "3.7.1"
  }
 },
 "nbformat": 4,
 "nbformat_minor": 2
}
